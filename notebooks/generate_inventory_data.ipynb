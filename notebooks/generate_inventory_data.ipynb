{
 "cells": [
  {
   "cell_type": "code",
   "execution_count": 1,
   "id": "ec0fa104-340e-4a80-a899-716ece84b770",
   "metadata": {},
   "outputs": [
    {
     "data": {
      "text/html": [
       "<div>\n",
       "<style scoped>\n",
       "    .dataframe tbody tr th:only-of-type {\n",
       "        vertical-align: middle;\n",
       "    }\n",
       "\n",
       "    .dataframe tbody tr th {\n",
       "        vertical-align: top;\n",
       "    }\n",
       "\n",
       "    .dataframe thead th {\n",
       "        text-align: right;\n",
       "    }\n",
       "</style>\n",
       "<table border=\"1\" class=\"dataframe\">\n",
       "  <thead>\n",
       "    <tr style=\"text-align: right;\">\n",
       "      <th></th>\n",
       "      <th>date</th>\n",
       "      <th>hospital_id</th>\n",
       "      <th>drug_name</th>\n",
       "      <th>inventory</th>\n",
       "      <th>demand</th>\n",
       "    </tr>\n",
       "  </thead>\n",
       "  <tbody>\n",
       "    <tr>\n",
       "      <th>0</th>\n",
       "      <td>2024-01-01</td>\n",
       "      <td>Hosp_A</td>\n",
       "      <td>Paracetamol</td>\n",
       "      <td>152</td>\n",
       "      <td>61</td>\n",
       "    </tr>\n",
       "    <tr>\n",
       "      <th>1</th>\n",
       "      <td>2024-01-01</td>\n",
       "      <td>Hosp_A</td>\n",
       "      <td>Ibuprofen</td>\n",
       "      <td>142</td>\n",
       "      <td>24</td>\n",
       "    </tr>\n",
       "    <tr>\n",
       "      <th>2</th>\n",
       "      <td>2024-01-01</td>\n",
       "      <td>Hosp_A</td>\n",
       "      <td>Amoxicillin</td>\n",
       "      <td>156</td>\n",
       "      <td>81</td>\n",
       "    </tr>\n",
       "    <tr>\n",
       "      <th>3</th>\n",
       "      <td>2024-01-01</td>\n",
       "      <td>Hosp_A</td>\n",
       "      <td>Metformin</td>\n",
       "      <td>70</td>\n",
       "      <td>92</td>\n",
       "    </tr>\n",
       "    <tr>\n",
       "      <th>4</th>\n",
       "      <td>2024-01-01</td>\n",
       "      <td>Hosp_A</td>\n",
       "      <td>Atorvastatin</td>\n",
       "      <td>124</td>\n",
       "      <td>84</td>\n",
       "    </tr>\n",
       "  </tbody>\n",
       "</table>\n",
       "</div>"
      ],
      "text/plain": [
       "        date hospital_id     drug_name  inventory  demand\n",
       "0 2024-01-01      Hosp_A   Paracetamol        152      61\n",
       "1 2024-01-01      Hosp_A     Ibuprofen        142      24\n",
       "2 2024-01-01      Hosp_A   Amoxicillin        156      81\n",
       "3 2024-01-01      Hosp_A     Metformin         70      92\n",
       "4 2024-01-01      Hosp_A  Atorvastatin        124      84"
      ]
     },
     "execution_count": 1,
     "metadata": {},
     "output_type": "execute_result"
    }
   ],
   "source": [
    "import pandas as pd\n",
    "import numpy as np\n",
    "import random\n",
    "\n",
    "# Set random seed for reproducibility\n",
    "random.seed(42)\n",
    "np.random.seed(42)\n",
    "\n",
    "# Define hospitals and drugs\n",
    "hospitals = ['Hosp_A', 'Hosp_B', 'Hosp_C']\n",
    "drugs = ['Paracetamol', 'Ibuprofen', 'Amoxicillin', 'Metformin', 'Atorvastatin']\n",
    "\n",
    "# Generate date range\n",
    "dates = pd.date_range(start='2024-01-01', periods=60)  # 60 days of data\n",
    "\n",
    "# Create empty list to store rows\n",
    "data = []\n",
    "\n",
    "# Simulate data\n",
    "for date in dates:\n",
    "    for hospital in hospitals:\n",
    "        for drug in drugs:\n",
    "            inventory = np.random.randint(50, 200)  # current stock level\n",
    "            demand = np.random.randint(10, 100)     # expected usage\n",
    "            data.append([date, hospital, drug, inventory, demand])\n",
    "\n",
    "# Convert to DataFrame\n",
    "df = pd.DataFrame(data, columns=['date', 'hospital_id', 'drug_name', 'inventory', 'demand'])\n",
    "\n",
    "# Preview the data\n",
    "df.head()\n"
   ]
  },
  {
   "cell_type": "code",
   "execution_count": 2,
   "id": "ff2d9a2d-dc2a-4a2e-8ed0-6429fc5e67b2",
   "metadata": {},
   "outputs": [
    {
     "name": "stdout",
     "output_type": "stream",
     "text": [
      "Dataset saved to data/inventory.csv\n"
     ]
    }
   ],
   "source": [
    "# Save the full dataset\n",
    "df.to_csv('../data/inventory.csv', index=False)\n",
    "print(\"Dataset saved to data/inventory.csv\")\n"
   ]
  },
  {
   "cell_type": "code",
   "execution_count": 3,
   "id": "5cc8f5a8-ab52-403d-b103-ec7699200f9f",
   "metadata": {},
   "outputs": [
    {
     "name": "stdout",
     "output_type": "stream",
     "text": [
      "Saved: inventory_Hosp_A.csv\n",
      "Saved: inventory_Hosp_B.csv\n",
      "Saved: inventory_Hosp_C.csv\n"
     ]
    }
   ],
   "source": [
    "# Create separate datasets for each hospital\n",
    "for hospital in hospitals:\n",
    "    df_hosp = df[df['hospital_id'] == hospital]\n",
    "    df_hosp.to_csv(f'../data/inventory_{hospital}.csv', index=False)\n",
    "    print(f\"Saved: inventory_{hospital}.csv\")\n"
   ]
  },
  {
   "cell_type": "code",
   "execution_count": null,
   "id": "b515e95a-d284-4540-bc0e-4fb5cc023ccc",
   "metadata": {},
   "outputs": [],
   "source": []
  }
 ],
 "metadata": {
  "kernelspec": {
   "display_name": "Python 3 (ipykernel)",
   "language": "python",
   "name": "python3"
  },
  "language_info": {
   "codemirror_mode": {
    "name": "ipython",
    "version": 3
   },
   "file_extension": ".py",
   "mimetype": "text/x-python",
   "name": "python",
   "nbconvert_exporter": "python",
   "pygments_lexer": "ipython3",
   "version": "3.9.23"
  }
 },
 "nbformat": 4,
 "nbformat_minor": 5
}
